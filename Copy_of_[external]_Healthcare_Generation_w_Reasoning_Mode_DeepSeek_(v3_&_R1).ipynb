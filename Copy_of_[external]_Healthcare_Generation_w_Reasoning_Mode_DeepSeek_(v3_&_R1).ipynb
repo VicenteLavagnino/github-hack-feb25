{
  "cells": [
    {
      "cell_type": "markdown",
      "metadata": {
        "id": "view-in-github",
        "colab_type": "text"
      },
      "source": [
        "<a href=\"https://colab.research.google.com/github/VicenteLavagnino/github-hack-feb25/blob/main/Copy_of_%5Bexternal%5D_Healthcare_Generation_w_Reasoning_Mode_DeepSeek_(v3_%26_R1).ipynb\" target=\"_parent\"><img src=\"https://colab.research.google.com/assets/colab-badge.svg\" alt=\"Open In Colab\"/></a>"
      ]
    },
    {
      "cell_type": "markdown",
      "source": [
        "[![Open in Colab](https://colab.research.google.com/assets/colab-badge.svg)](https://colab.research.google.com/drive/1njzOgHWgguSuA732RYROJDiCua3hGO_R?usp=sharing)"
      ],
      "metadata": {
        "id": "RrzVFtulZcpI"
      },
      "id": "RrzVFtulZcpI"
    },
    {
      "cell_type": "markdown",
      "source": [
        "# Introduction to Structured Responses for Healthcare Data\n",
        "\n",
        "This script demonstrates how to use **structured responses** with DeepSeek Models (V3 and R1) on Fireworks AI to generate reliable and structured healthcare data.\n",
        "\n",
        "\n",
        "### Why Use Structured Responses?\n",
        "- **Predictability**: Enforces medical data constraints to ensure logical outputs.\n",
        "- **Automation**: Structured outputs can be used for patient record generation, automated reports, and clinical decision support.\n",
        "- **Integration**: JSON and Grammar Mode allow seamless integration into electronic health record (EHR) systems and research databases.\n",
        "\n",
        "### What You'll Learn\n",
        "1. **Basic API Setup**: Connecting to Fireworks AI and using DeepSeek v3 and R1.\n",
        "2. **Grammar Mode**: Generating structured healthcare data within predefined constraints.\n",
        "3. **JSON Mode**: Ensuring machine-readable structured responses.\n",
        "4. **Reasoning JSON Mode**: Capturing the model's thought process alongside structured responses."
      ],
      "metadata": {
        "id": "ab9Fdg11wDUb"
      },
      "id": "ab9Fdg11wDUb"
    },
    {
      "cell_type": "markdown",
      "id": "TWZqnPr0pcv8",
      "metadata": {
        "id": "TWZqnPr0pcv8"
      },
      "source": [
        "### Setup\n",
        "\n",
        "Install all the dependencies and import the required python modules."
      ]
    },
    {
      "cell_type": "code",
      "execution_count": 2,
      "id": "YYRdRzHuHkjz",
      "metadata": {
        "id": "YYRdRzHuHkjz"
      },
      "outputs": [],
      "source": [
        "!pip3 install --upgrade fireworks-ai pydantic python-dotenv > /dev/null"
      ]
    },
    {
      "cell_type": "markdown",
      "id": "sV4u2hezqV4X",
      "metadata": {
        "id": "sV4u2hezqV4X"
      },
      "source": [
        "### Setup your API Key\n",
        "\n",
        "In order to use the DeepSeek models, you must first obtain Fireworks API Keys. If you don't already have one, create a [Fireworks AI](https://fireworks.ai) account. Under Account Settings, click on [API Keys](https://fireworks.ai/api-keys) to create one."
      ]
    },
    {
      "cell_type": "code",
      "execution_count": 10,
      "id": "M9EtJxjJrlyD",
      "metadata": {
        "id": "M9EtJxjJrlyD"
      },
      "outputs": [],
      "source": [
        "from fireworks.client import Fireworks\n",
        "import os\n",
        "from dotenv import load_dotenv  # Import dotenv\n",
        "\n",
        "# Load environment variables from .env file\n",
        "load_dotenv()\n",
        "\n",
        "# Initialize Fireworks client using API key from .env\n",
        "client = Fireworks(api_key=FIREWORKS_API_KEY)"
      ]
    },
    {
      "cell_type": "markdown",
      "id": "FrFtrGQ6r-Mk",
      "metadata": {
        "id": "FrFtrGQ6r-Mk"
      },
      "source": [
        "# 0️⃣ **Basic API Call to DeepSeek v3**"
      ]
    },
    {
      "cell_type": "markdown",
      "id": "TVGsp9wvtO2Q",
      "metadata": {
        "id": "TVGsp9wvtO2Q"
      },
      "source": [
        "### Chat Completions API\n",
        "This is a simple test call to ensure the Fireworks API is working correctly."
      ]
    },
    {
      "cell_type": "code",
      "execution_count": 32,
      "id": "DHAgBTk8Hpg_",
      "metadata": {
        "colab": {
          "base_uri": "https://localhost:8080/"
        },
        "id": "DHAgBTk8Hpg_",
        "outputId": "68a60caf-bab7-44c6-d4c1-ffd63969194a"
      },
      "outputs": [
        {
          "output_type": "stream",
          "name": "stdout",
          "text": [
            "The field of AI in healthcare has seen rapid advancements in recent years, with innovations transforming diagnostics, treatment, patient care, and drug discovery. Here are some of the latest advancements as of 2023:\n",
            "\n",
            "### 1. **AI in Medical Imaging**\n",
            "   - **Enhanced Image Analysis**: AI algorithms are now more accurate in detecting anomalies in medical images such as X-rays, MRIs, and CT scans. For example, advancements in deep learning have improved the detection of cancers, cardiovascular diseases, and neurological disorders.\n",
            "   - **Explainable AI (XAI)**: Efforts are being made to make AI-driven imaging tools more interpretable, allowing clinicians to understand how the AI arrives at its conclusions.\n",
            "\n",
            "### 2. **Drug Discovery and Development**\n",
            "   - **Generative AI for Molecule Design**: AI models like AlphaFold and others are being used to predict protein structures and design new drug candidates more efficiently.\n",
            "   - **Virtual Screening**: AI is speeding up the process of identifying potential drug compounds by simulating interactions with target proteins.\n",
            "   - **Clinical Trial Optimization**: AI is being used to identify suitable patients for trials, predict outcomes, and reduce costs and time.\n",
            "\n",
            "### 3. **Personalized Medicine**\n",
            "   - **Genomic Data Analysis**: AI is helping analyze genomic data to tailor treatments based on an individual’s genetic makeup, improving outcomes for diseases like cancer.\n",
            "   - **Predictive Analytics**: AI models are being used to predict disease progression and personalize treatment plans based on patient data.\n",
            "\n",
            "### 4. **AI in Diagnostics**\n",
            "   - **Early Disease Detection**: AI tools are being developed to detect diseases like Alzheimer’s, Parkinson’s, and diabetes at earlier stages using biomarkers and patient data.\n",
            "   - **Multi-Modal AI**: Combining data from various sources (e.g., electronic health records (EHRs), imaging, and lab tests) to improve diagnostic accuracy.\n",
            "\n",
            "### 5. **Natural Language Processing (NLP)**\n",
            "   - **Clinical Documentation**: AI-powered NLP tools are automating the extraction of information from clinical notes, reducing administrative burdens on healthcare professionals.\n",
            "   - **Patient Communication**: NLP is being used in chatbots and virtual assistants to improve patient engagement and provide real-time health advice.\n",
            "\n",
            "### 6. **Remote Monitoring and Wearables**\n",
            "   - **AI-Enhanced Wearables**: Devices like smartwatches and fitness trackers are integrating AI to monitor health metrics (e.g., heart rate, blood oxygen levels) and detect abnormalities.\n",
            "   - **Telemedicine**: AI is improving remote consultations by providing decision support to clinicians and analyzing patient data in real time.\n",
            "\n",
            "### 7. **Operational Efficiency**\n",
            "   - **Hospital Workflow Optimization**: AI is being used to streamline hospital operations, such as patient scheduling, resource allocation, and predicting patient admissions.\n",
            "   - **Fraud Detection**: AI helps identify fraudulent insurance claims and billing anomalies, reducing healthcare costs.\n",
            "\n",
            "### 8. **Robotics and Surgery**\n",
            "   - **Surgical Assistants**: AI-driven robotic systems are assisting surgeons in performing minimally invasive procedures with greater precision.\n",
            "   - **Post-Surgical Monitoring**: AI is being used to monitor patients after surgery, predicting complications and improving recovery outcomes.\n",
            "\n",
            "### 9. **Mental Health Applications**\n",
            "   - **AI-Powered Therapy**: Chatbots and virtual therapists are being developed to provide mental health support and monitor patients’ emotional states.\n",
            "   - **Predictive Mental Health Models**: AI is analyzing data to predict mental health crises and intervene early.\n",
            "\n",
            "### 10. **Ethical AI and Regulatory Advancements**\n",
            "   - **Bias Mitigation**: Efforts are being made to reduce bias in AI models, ensuring they are fair and equitable across diverse populations.\n",
            "   - **Regulatory Frameworks**: Governments and organizations are working on guidelines and standards to ensure the safe and ethical use of AI in healthcare.\n",
            "\n",
            "### 11. **AI in Public Health**\n",
            "   - **Epidemic Prediction**: AI is being used to track and predict the spread of infectious diseases, aiding in pandemic preparedness.\n",
            "   - **Vaccine Development**: AI is accelerating vaccine development by analyzing vast datasets and predicting immune responses.\n",
            "\n",
            "### Challenges and Future Directions\n",
            "While these advancements are promising, challenges remain, including ensuring data privacy, addressing biases in AI models, and integrating AI into existing healthcare systems. The future of AI in healthcare will likely focus on improving interoperability, enhancing human-AI collaboration, and expanding access to AI-driven solutions globally.\n",
            "\n",
            "These advancements are reshaping healthcare, making it more efficient, accurate, and personalized, with the potential to significantly improve patient outcomes and reduce costs.\n"
          ]
        }
      ],
      "source": [
        "model_name = \"accounts/fireworks/models/deepseek-v3\"\n",
        "\n",
        "response = client.chat.completions.create(\n",
        "    model=model_name,\n",
        "    messages=[\n",
        "        {\"role\": \"user\", \"content\": \"What are the latest advancements in AI for healthcare?\"},\n",
        "    ],\n",
        ")\n",
        "print(response.choices[0].message.content)"
      ]
    },
    {
      "cell_type": "markdown",
      "id": "kOX8MZQttBq8",
      "metadata": {
        "id": "kOX8MZQttBq8"
      },
      "source": [
        "# 1️⃣ **Grammar Mode with BNF for Healthcare Data**\n",
        "\n",
        "### **What is Grammar Mode?**\n",
        "Grammar Mode ensures that the model outputs responses that conform to a strict structure, preventing unexpected variations in responses. This is particularly useful for generating structured data, such as medical records.\n",
        "\n",
        "#### **How Grammar Mode Works**\n",
        "- Uses a **GBNF (Grammar-Based Normal Form)** to constrain the model's output.\n",
        "- Ensures the output adheres to predefined rules for valid healthcare data.\n",
        "\n",
        "Read more about [GBNF](https://github.com/ggerganov/llama.cpp/tree/master/grammars), and how to [use it](https://docs.fireworks.ai/structured-responses/structured-output-grammar-based).\n"
      ]
    },
    {
      "cell_type": "code",
      "execution_count": 37,
      "id": "NmZJRcvK-DTJ",
      "metadata": {
        "id": "NmZJRcvK-DTJ"
      },
      "outputs": [],
      "source": [
        "# Define the grammar to enforce structured output for triage ranking\n",
        "triage_grammar = \"\"\"\n",
        "root ::= patient-record\n",
        "\n",
        "patient-record ::= \"Patient ID: \" patient_id \" Age: \" age \" Gender: \" gender \" Symptoms: \" symptoms \" Vitals: \" vitals\n",
        "\n",
        "patient_id ::= (\"P001\" | \"P002\" | \"P003\" | \"P004\" | \"P005\")\n",
        "age ::= (\"18\" | \"25\" | \"40\" | \"60\" | \"75\")\n",
        "gender ::= (\"Male\" | \"Female\" | \"Non-binary\")\n",
        "symptoms ::= (\"Chest pain\" | \"Shortness of breath\" | \"High fever\" | \"Unconscious\" | \"Severe bleeding\")\n",
        "vitals ::= (\"Normal BP, 98% Oxygen\" | \"High BP, Low Oxygen\" | \"Rapid Heart Rate, High Fever\" | \"Unstable BP, Loss of Consciousness\")\n",
        "\"\"\""
      ]
    },
    {
      "cell_type": "code",
      "source": [
        "# Call the model to enforce structured triage ranking\n",
        "response_grammar = client.chat.completions.create(\n",
        "    model=model_name,\n",
        "    messages=[\n",
        "        {\n",
        "            \"role\": \"user\",\n",
        "            \"content\": (\n",
        "                \"You are an AI-powered emergency triage system for healthcare. \\n\"\n",
        "                \"Given a patient's structured data (age, symptoms, vitals), assess their emergency priority. \\n\"\n",
        "                \"Analyze the provided information and return a structured JSON output with:\\n\\n\"\n",
        "                \"- 'patient_id': unique patient identifier\\n\"\n",
        "                \"- 'mortality_risk': probability of death without immediate care (0-100%)\\n\"\n",
        "                \"- 'priority_level': urgency level ('Low', 'Medium', 'High', 'Critical')\\n\"\n",
        "                \"- 'recommended_action': next steps ('Monitor', 'Immediate Attention', 'ICU Admission', 'Surgery Required')\\n\"\n",
        "                \"- 'justification': reasoning for the decision\\n\\n\"\n",
        "                \"Format the output strictly in JSON like this example:\\n\"\n",
        "                \"{\\n\"\n",
        "                '  \"patient_id\": \"P001\",\\n'\n",
        "                '  \"mortality_risk\": 85,\\n'\n",
        "                '  \"priority_level\": \"Critical\",\\n'\n",
        "                '  \"recommended_action\": \"ICU Admission\",\\n'\n",
        "                '  \"justification\": \"Patient is unconscious with unstable vitals.\"\\n'\n",
        "                \"}\\n\"\n",
        "                \"Do NOT include any additional text before or after the JSON response.\"\n",
        "            ),\n",
        "        }\n",
        "    ],\n",
        "    max_tokens=500,\n",
        ")"
      ],
      "metadata": {
        "id": "PQbZ52mTw8MP"
      },
      "id": "PQbZ52mTw8MP",
      "execution_count": 41,
      "outputs": []
    },
    {
      "cell_type": "code",
      "source": [
        "import json\n",
        "\n",
        "# Extract AI-generated triage details\n",
        "grammar_output = response_grammar.choices[0].message.content\n",
        "\n",
        "print(\"🚑 AI-Generated Triage Output:\", grammar_output)\n",
        "\n",
        "# Parse JSON safely\n",
        "try:\n",
        "    triage_data = json.loads(grammar_output)\n",
        "    print(f\"🔴 Patient ID: {triage_data['patient_id']}\")\n",
        "    print(f\"⚠️ Mortality Risk: {triage_data['mortality_risk']}%\")\n",
        "    print(f\"🏥 Priority Level: {triage_data['priority_level']}\")\n",
        "    print(f\"🩺 Recommended Action: {triage_data['recommended_action']}\")\n",
        "    print(f\"📌 Justification: {triage_data['justification']}\")\n",
        "except json.JSONDecodeError:\n",
        "    print(\"⚠️ AI response is not in JSON format, please check output manually.\")"
      ],
      "metadata": {
        "colab": {
          "base_uri": "https://localhost:8080/"
        },
        "id": "yfspkKrsPby7",
        "outputId": "cff82703-9e56-46ac-c148-cdf61af16ed6"
      },
      "id": "yfspkKrsPby7",
      "execution_count": 42,
      "outputs": [
        {
          "output_type": "stream",
          "name": "stdout",
          "text": [
            "🚑 AI-Generated Triage Output: {\n",
            "  \"patient_id\": \"P002\",\n",
            "  \"mortality_risk\": 30,\n",
            "  \"priority_level\": \"Medium\",\n",
            "  \"recommended_action\": \"Immediate Attention\",\n",
            "  \"justification\": \"Patient exhibits moderate symptoms with slightly elevated vitals, indicating potential risk if left untreated.\"\n",
            "}\n",
            "🔴 Patient ID: P002\n",
            "⚠️ Mortality Risk: 30%\n",
            "🏥 Priority Level: Medium\n",
            "🩺 Recommended Action: Immediate Attention\n",
            "📌 Justification: Patient exhibits moderate symptoms with slightly elevated vitals, indicating potential risk if left untreated.\n"
          ]
        }
      ]
    },
    {
      "cell_type": "markdown",
      "id": "O5i7rqkhJQJN",
      "metadata": {
        "id": "O5i7rqkhJQJN"
      },
      "source": [
        "# 2️⃣ **JSON Mode for Healthcare Data**\n",
        "\n",
        "JSON mode is a subset of grammar mode and is a feature that allows you to specify a JSON schema to force a language model to respond in a structured JSON format. This has several benefits:\n",
        "\n",
        "* Clarity and precision in responses\n",
        "* Easy parsing and processing of output\n",
        "* Improved integration with healthcare systems\n",
        "* Standardized format for consistent data handling"
      ]
    },
    {
      "cell_type": "code",
      "execution_count": 15,
      "id": "wcOA_lp1B9lD",
      "metadata": {
        "id": "wcOA_lp1B9lD"
      },
      "outputs": [],
      "source": [
        "from pydantic import BaseModel, Field\n",
        "from typing import List"
      ]
    },
    {
      "cell_type": "code",
      "execution_count": 43,
      "id": "D9xgnLuGCAQi",
      "metadata": {
        "id": "D9xgnLuGCAQi"
      },
      "outputs": [],
      "source": [
        "# Define the structure for triage response\n",
        "class TriageRecord(BaseModel):\n",
        "    patient_id: str\n",
        "    age: int\n",
        "    gender: str\n",
        "    symptoms: str\n",
        "    vitals: str\n",
        "    mortality_risk: int  # 0-100 scale\n",
        "    priority_level: str  # \"Low\", \"Medium\", \"High\", \"Critical\"\n",
        "    recommended_action: str  # \"Monitor\", \"Immediate Attention\", \"ICU Admission\", \"Surgery Required\"\n",
        "    justification: str  # Explanation of triage decision"
      ]
    },
    {
      "cell_type": "code",
      "execution_count": 44,
      "id": "7X2lAQdWCKZI",
      "metadata": {
        "id": "7X2lAQdWCKZI",
        "colab": {
          "base_uri": "https://localhost:8080/"
        },
        "outputId": "5bc54d04-a863-45be-c232-0be3f243477f"
      },
      "outputs": [
        {
          "output_type": "stream",
          "name": "stdout",
          "text": [
            "{\n",
            "\"patient_id\": \"PAT123456\",\n",
            "\"age\": 34,\n",
            "\"gender\": \"Female\",\n",
            "\"symptoms\": \"chest pain, shortness of breath, dizziness\",\n",
            "\"vitals\": \"BP: 140/90, HR: 110, Temp: 98.6°F, O2: 92%\",\n",
            "\"mortality_risk\": 10,\n",
            "\"priority_level\": \"High\",\n",
            "\"recommended_action\": \"Immediate medical attention required. Admit to emergency department for further evaluation and management.\"\n",
            ",\n",
            "\"justification\": \"Patient presents with symptoms of chest pain, shortness of breath, and dizziness, which could indicate a cardiac event given the elevated heart rate and low oxygen saturation. The high priority level is due to the potential for life-threatening conditions such as myocardial infarction or pulmonary embolism.\"\n",
            "}\n"
          ]
        }
      ],
      "source": [
        "# API Call - JSON Mode for Triage Ranking\n",
        "response_json = client.chat.completions.create(\n",
        "    model=model_name,\n",
        "    response_format={\"type\": \"json_object\", \"schema\": TriageRecord.model_json_schema()},\n",
        "    messages=[\n",
        "        {\n",
        "            \"role\": \"user\",\n",
        "            \"content\": (\n",
        "                \"You are an AI-powered triage system. Based on the given structured patient data, \"\n",
        "                \"analyze their condition and provide a triage assessment.\\n\\n\"\n",
        "                \"Ensure the output strictly follows the JSON format defined by the schema.\"\n",
        "            ),\n",
        "        }\n",
        "    ],\n",
        "    max_tokens=500,\n",
        ")\n",
        "\n",
        "# Print AI-generated triage response\n",
        "print(response_json.choices[0].message.content)"
      ]
    },
    {
      "cell_type": "markdown",
      "source": [
        "# 3️⃣ **Reasoning Model JSON Mode for Healthcare Data**\n",
        "\n",
        "### 🧠 **Reasoning Model JSON Mode for Healthcare Data**  \n",
        "\n",
        "#### 🔹 **What is Reasoning JSON Mode?**  \n",
        "Reasoning JSON Mode extends structured JSON generation by adding an **explanation of the model’s decision-making process**. This is done by generating a **reasoning section enclosed within `<think>...</think>` tags**, followed by a structured JSON response.\n",
        "\n",
        "This approach enhances transparency and interpretability by providing insight into **why** the model made certain clinical recommendations.\n",
        "\n",
        "#### 🔹 **Why Use Reasoning JSON Mode for Healthcare Data?**  \n",
        "For tasks like **clinical documentation, medical decision support, or patient record validation**, Reasoning JSON Mode provides:\n",
        "\n",
        "* ✅ **Explainability** → Understand why certain diagnoses and treatments were selected.  \n",
        "* ✅ **Debugging Capability** → Identify potential inconsistencies in AI-generated medical recommendations.  \n",
        "* ✅ **Structured Data** → JSON output is ready for integration into healthcare databases.\n"
      ],
      "metadata": {
        "id": "6M6OAI92JYNX"
      },
      "id": "6M6OAI92JYNX"
    },
    {
      "cell_type": "code",
      "source": [
        "import json\n",
        "import re\n",
        "from pydantic import BaseModel\n",
        "from openai import OpenAI"
      ],
      "metadata": {
        "id": "2IPmp0bjSaXx"
      },
      "id": "2IPmp0bjSaXx",
      "execution_count": 18,
      "outputs": []
    },
    {
      "cell_type": "code",
      "source": [
        "# Prepare the user input for triage evaluation\n",
        "user_input = (\n",
        "    \"You are an AI-powered emergency triage system. \"\n",
        "    \"Given a patient's structured data (age, symptoms, vitals), assess their emergency priority. \"\n",
        "    \"Analyze the provided information and provide:\\n\\n\"\n",
        "    \"<think> A short explanation of the triage decision, enclosed in <think>...</think> tags. </think>\\n\\n\"\n",
        "    \"Then return structured JSON in the format of the TriageRecord schema.\"\n",
        ")\n",
        "\n",
        "# Construct the messages payload\n",
        "messages = [{\"role\": \"user\", \"content\": user_input}]\n",
        "\n",
        "# Make the API call to the model\n",
        "response = client.chat.completions.create(\n",
        "    model=\"accounts/fireworks/models/deepseek-r1\",\n",
        "    messages=messages,\n",
        "    response_format={\"type\": \"json_object\", \"schema\": TriageRecord.model_json_schema()},\n",
        "    max_tokens=3000,\n",
        ")\n",
        "\n",
        "# Extract the content of the response\n",
        "response_content = response.choices[0].message.content\n",
        "print(\"📄 AI Response Content:\\n\", response_content)"
      ],
      "metadata": {
        "colab": {
          "base_uri": "https://localhost:8080/"
        },
        "id": "MdtN10fzPu2s",
        "outputId": "ccbb136e-2407-4dc3-9435-6b174289b0db"
      },
      "id": "MdtN10fzPu2s",
      "execution_count": 45,
      "outputs": [
        {
          "output_type": "stream",
          "name": "stdout",
          "text": [
            "📄 AI Response Content:\n",
            " <think>\n",
            "Okay, let's tackle this. The patient is 67 years old. Their symptoms include chest pain, shortness of breath, and dizziness. Vitals: blood pressure is 160/95, heart rate 110 bpm, oxygen saturation 92%. Age is a factor here, as older adults are at higher risk for cardiovascular issues. Chest pain coupled with shortness of breath and elevated heart rate raises concern for possible cardiac event like a heart attack. The high blood pressure and low oxygen saturation (92% is below normal, which is usually 95%+) add to the urgency. Dizziness might indicate inadequate blood flow or oxygenation. Tachycardia (HR 110) and hypertension could be stress responses, but combined with the symptoms, it's a red flag. Immediate evaluation is needed to rule out life-threatening conditions like myocardial infarction or pulmonary embolism. Prioritize as emergent.\n",
            "</think>\n",
            "{\n",
            "\"patient_id\": \"12345\",\n",
            "\"age\": 67,\n",
            "\"gender\": \"male\",\n",
            "\"symptoms\": \"chest pain, shortness of breath, dizziness\",\n",
            "\"vitals\": \"BP 160/95, HR 110, SpO2 92%\",\n",
            "\"mortality_risk\": 0,\n",
            "\"priority_level\": \"immediate\",\n",
            "\"recommended_action\": \"Immediate evaluation for possible cardiac event, administer oxygen, ECG, and cardiac markers\"\n",
            ", \"justification\": \"Elderly patient with chest pain, tachycardia, hypertension, and hypoxemia indicative of potential acute cardiac or pulmonary emergency requiring urgent intervention.\"\n",
            "}\n"
          ]
        }
      ]
    },
    {
      "cell_type": "code",
      "source": [
        "# Extract the reasoning part enclosed in <think>...</think> tags\n",
        "reasoning_match = re.search(r\"<think>(.*?)</think>\", response_content, re.DOTALL)\n",
        "reasoning = reasoning_match.group(1).strip() if reasoning_match else \"No reasoning provided.\"\n",
        "\n",
        "print(\"🧠 AI Reasoning:\\n\", reasoning)"
      ],
      "metadata": {
        "id": "X2u1Yy9TrAxA",
        "colab": {
          "base_uri": "https://localhost:8080/"
        },
        "outputId": "8b10a96a-980c-4dac-db53-19290f142997"
      },
      "id": "X2u1Yy9TrAxA",
      "execution_count": 46,
      "outputs": [
        {
          "output_type": "stream",
          "name": "stdout",
          "text": [
            "🧠 AI Reasoning:\n",
            " Okay, let's tackle this. The patient is 67 years old. Their symptoms include chest pain, shortness of breath, and dizziness. Vitals: blood pressure is 160/95, heart rate 110 bpm, oxygen saturation 92%. Age is a factor here, as older adults are at higher risk for cardiovascular issues. Chest pain coupled with shortness of breath and elevated heart rate raises concern for possible cardiac event like a heart attack. The high blood pressure and low oxygen saturation (92% is below normal, which is usually 95%+) add to the urgency. Dizziness might indicate inadequate blood flow or oxygenation. Tachycardia (HR 110) and hypertension could be stress responses, but combined with the symptoms, it's a red flag. Immediate evaluation is needed to rule out life-threatening conditions like myocardial infarction or pulmonary embolism. Prioritize as emergent.\n"
          ]
        }
      ]
    },
    {
      "cell_type": "code",
      "source": [
        "# Extract the JSON part that follows after the reasoning\n",
        "json_match = re.search(r\"</think>\\s*(\\{.*\\})\", response_content, re.DOTALL)\n",
        "json_str = json_match.group(1).strip() if json_match else \"{}\"\n",
        "\n",
        "# Parse the JSON string into a Pydantic model\n",
        "try:\n",
        "    triage_record = TriageRecord.model_validate_json(json_str)\n",
        "except Exception as e:\n",
        "    print(\"⚠️ JSON Parsing Error:\", e)\n",
        "    triage_record = None"
      ],
      "metadata": {
        "id": "DUvZphXmrCZz"
      },
      "id": "DUvZphXmrCZz",
      "execution_count": 47,
      "outputs": []
    },
    {
      "cell_type": "code",
      "source": [
        "# Output the reasoning and the parsed JSON data\n",
        "print(\"🩺 Reasoning for Triage Decision:\")\n",
        "print(reasoning)\n",
        "\n",
        "if triage_record:\n",
        "    print(\"\\n🚑 Triage Record (Structured JSON Data):\")\n",
        "    print(triage_record.model_dump_json(indent=4))\n",
        "else:\n",
        "    print(\"\\n⚠️ No valid triage data extracted.\")"
      ],
      "metadata": {
        "colab": {
          "base_uri": "https://localhost:8080/"
        },
        "id": "WSGy-71UrEd8",
        "outputId": "f2026934-4285-462c-d4d7-d17a50b04921"
      },
      "id": "WSGy-71UrEd8",
      "execution_count": 48,
      "outputs": [
        {
          "output_type": "stream",
          "name": "stdout",
          "text": [
            "🩺 Reasoning for Triage Decision:\n",
            "Okay, let's tackle this. The patient is 67 years old. Their symptoms include chest pain, shortness of breath, and dizziness. Vitals: blood pressure is 160/95, heart rate 110 bpm, oxygen saturation 92%. Age is a factor here, as older adults are at higher risk for cardiovascular issues. Chest pain coupled with shortness of breath and elevated heart rate raises concern for possible cardiac event like a heart attack. The high blood pressure and low oxygen saturation (92% is below normal, which is usually 95%+) add to the urgency. Dizziness might indicate inadequate blood flow or oxygenation. Tachycardia (HR 110) and hypertension could be stress responses, but combined with the symptoms, it's a red flag. Immediate evaluation is needed to rule out life-threatening conditions like myocardial infarction or pulmonary embolism. Prioritize as emergent.\n",
            "\n",
            "🚑 Triage Record (Structured JSON Data):\n",
            "{\n",
            "    \"patient_id\": \"12345\",\n",
            "    \"age\": 67,\n",
            "    \"gender\": \"male\",\n",
            "    \"symptoms\": \"chest pain, shortness of breath, dizziness\",\n",
            "    \"vitals\": \"BP 160/95, HR 110, SpO2 92%\",\n",
            "    \"mortality_risk\": 0,\n",
            "    \"priority_level\": \"immediate\",\n",
            "    \"recommended_action\": \"Immediate evaluation for possible cardiac event, administer oxygen, ECG, and cardiac markers\",\n",
            "    \"justification\": \"Elderly patient with chest pain, tachycardia, hypertension, and hypoxemia indicative of potential acute cardiac or pulmonary emergency requiring urgent intervention.\"\n",
            "}\n"
          ]
        }
      ]
    },
    {
      "cell_type": "markdown",
      "id": "sDoxKlYwDORC",
      "metadata": {
        "id": "sDoxKlYwDORC"
      },
      "source": [
        "# **Conclusion**\n",
        "\n",
        "\n",
        "\n",
        "To learn more, visit [Fireworks AI Docs](https://docs.fireworks.ai) or join our [Discord community](https://discord.gg/fireworks-ai)."
      ]
    }
  ],
  "metadata": {
    "colab": {
      "provenance": [],
      "include_colab_link": true
    },
    "kernelspec": {
      "display_name": "Python 3 (ipykernel)",
      "language": "python",
      "name": "python3"
    },
    "language_info": {
      "codemirror_mode": {
        "name": "ipython",
        "version": 3
      },
      "file_extension": ".py",
      "mimetype": "text/x-python",
      "name": "python",
      "nbconvert_exporter": "python",
      "pygments_lexer": "ipython3",
      "version": "3.12.6"
    }
  },
  "nbformat": 4,
  "nbformat_minor": 5
}